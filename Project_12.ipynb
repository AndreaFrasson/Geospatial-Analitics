{
 "cells": [
  {
   "cell_type": "markdown",
   "metadata": {},
   "source": [
    "# Project 12: Spatial fairness in urban environments <br>"
   ]
  },
  {
   "cell_type": "code",
   "execution_count": 1,
   "metadata": {},
   "outputs": [],
   "source": [
    "import geopandas as gpd\n",
    "import folium\n",
    "import numpy as np\n",
    "import networkx as nx \n",
    "import pandas as pd\n",
    "import itertools\n",
    "import warnings\n",
    "import sumolib\n",
    "import os\n",
    "#import openrouteservice as ors\n",
    "from sklearn.preprocessing import MinMaxScaler\n",
    "\n",
    "from shapely.geometry import LineString, Point\n",
    "\n",
    "import warnings\n",
    "warnings.filterwarnings(\"ignore\")\n",
    "\n",
    "from plot_utils import edges_to_gps_list, plot_paths, plot_bar_paths_cost\n",
    "from routing_utils import from_sumo_to_igraph_network\n",
    "from routing_algorithms import *\n",
    "import matplotlib.pyplot as plt\n",
    "\n",
    "attribute = 'traveltime'"
   ]
  },
  {
   "cell_type": "markdown",
   "metadata": {},
   "source": [
    "### Utility <br>\n",
    "Functions to improve readability"
   ]
  },
  {
   "cell_type": "code",
   "execution_count": 2,
   "metadata": {},
   "outputs": [],
   "source": [
    "# modified version of the function of GiulianoCornacchia from the github,\n",
    "# the only change is that the returned dataframe has one column for the edge id and one column for the geometry\n",
    "def gdf_from_sumo_network(sumo_road_network, crs=\"EPSG:4326\", edge_list=None):\n",
    "    edges_to_plot = sumo_road_network.getEdges()\n",
    "        \n",
    "    list_line_strings = []\n",
    "    list_ids = [] \n",
    "\n",
    "    for edge in edges_to_plot: \n",
    "        list_ids.append(edge.getID())      \n",
    "        edge_gps_list = [sumo_road_network.convertXY2LonLat(x[0], x[1]) for x in edge.getShape()]\n",
    "        list_line_strings.append(LineString(edge_gps_list))\n",
    "\n",
    "    df_net = gpd.GeoDataFrame(data = list_ids, geometry=list_line_strings, crs=\"EPSG:4326\") \n",
    "\n",
    "    df_net.columns = ['id', 'geometry']\n",
    "    return df_net "
   ]
  },
  {
   "cell_type": "code",
   "execution_count": 3,
   "metadata": {},
   "outputs": [],
   "source": [
    "# function to print the correct row for the file xml\n",
    "# path: tuple/list of edges\n",
    "# i: identifier for the row\n",
    "# type: type of trip, in this case if it is toward the city center or towards a random edge\n",
    "# return: row ready to be written in the file\n",
    "def path_to_xml(path, i, type):\n",
    "    edges = ''\n",
    "    depart = np.random.randint(0, 200)\n",
    "\n",
    "    for e in path:\n",
    "        edges+= str(e.getID()) + ' '\n",
    "\n",
    "    s = '<vehicle id=\"'+type+str(i)+'\" type=\"veh_passenger\" depart=\"0\" departLane=\"best\"> <route edges=\"'+ edges +'\"/> </vehicle> '\n",
    "    return s\n",
    "\n",
    "# function to print the correct row for the file xml\n",
    "# path: list of edges ids\n",
    "# i: identifier for the row\n",
    "# type: type of trip, in this case if it is toward the city center or towards a random edge\n",
    "# return: row ready to be written in the file\n",
    "def list_to_xml(path, i, type):\n",
    "    edges = ''\n",
    "    depart = np.random.randint(0, 200)\n",
    "\n",
    "    for e in path:\n",
    "        edges+= str(e) + ' '\n",
    "\n",
    "    s = '<vehicle id=\"'+type+str(i)+'\" type=\"veh_passenger\" depart=\"0\" departLane=\"best\"> <route edges=\"'+ edges +'\"/> </vehicle> '\n",
    "    return s"
   ]
  },
  {
   "cell_type": "code",
   "execution_count": 4,
   "metadata": {},
   "outputs": [],
   "source": [
    "# create a blank map for the city of Leuven\n",
    "def Leuven_map():\n",
    "    point = (50.849738563227824, 4.644786576420597)\n",
    "    m = folium.Map(location=point, zoom_start = 12)\n",
    "    return m\n",
    "\n",
    "m = Leuven_map()"
   ]
  },
  {
   "cell_type": "markdown",
   "metadata": {},
   "source": [
    "The first step of the project was the data preparation. <br>\n",
    "In this first part I opened three datasets:\n",
    "* The real hub configuration, the locations of all mobility hubs in Leuven where mobility services are clustered together.\n",
    "* The administrative zones of Leuven, GIS file with the sectors (identified by parameter CODSEC).\n",
    "* The road network generated with SUMO\n",
    "\n",
    "Then, some preliminary operations are performed. For each dataset I kept only the 'important' attributes, generally this means <br>\n",
    "geometry, identifier and, in the case of the road network, the edge id."
   ]
  },
  {
   "cell_type": "markdown",
   "metadata": {},
   "source": [
    "## Data"
   ]
  },
  {
   "cell_type": "code",
   "execution_count": 5,
   "metadata": {},
   "outputs": [
    {
     "data": {
      "text/plain": [
       "<folium.features.GeoJson at 0x1594fabe0>"
      ]
     },
     "execution_count": 5,
     "metadata": {},
     "output_type": "execute_result"
    }
   ],
   "source": [
    "# Open the hubs dataframe\n",
    "url = 'https://storageaccount11111111.blob.core.windows.net/container1/Leuven/hub_data_leuven/mobility_hubs.gpkg'\n",
    "hubs = gpd.read_file(url).to_crs('epsg:4326')[['nr', 'naam punt', 'geometry']]\n",
    "folium.GeoJson(hubs).add_to(m)"
   ]
  },
  {
   "cell_type": "code",
   "execution_count": 6,
   "metadata": {},
   "outputs": [
    {
     "data": {
      "text/plain": [
       "<folium.features.GeoJson at 0x137edd850>"
      ]
     },
     "execution_count": 6,
     "metadata": {},
     "output_type": "execute_result"
    }
   ],
   "source": [
    "# Open the zone dataframe\n",
    "zones_leuven = gpd.read_file('https://storageaccount11111111.blob.core.windows.net/container1/Leuven/socio_demographic_data/leuven_statsec.gpkg')\n",
    "zones_leuven = zones_leuven.to_crs('epsg:4326')[['CODSEC', 'geometry']]\n",
    "folium.GeoJson(zones_leuven).add_to(m)"
   ]
  },
  {
   "cell_type": "code",
   "execution_count": 7,
   "metadata": {},
   "outputs": [],
   "source": [
    "# road network from the sumo network\n",
    "#\n",
    "# build the network, the gdf and the graph directly from the sumo configuration\n",
    "net = sumolib.net.readNet(os.getcwd()+'/Sumo/osm.net.xml')\n",
    "road_net = gdf_from_sumo_network(net)\n",
    "G = from_sumo_to_igraph_network(net)"
   ]
  },
  {
   "cell_type": "markdown",
   "metadata": {},
   "source": [
    "Some operations were done on the dataframes.<br>\n",
    "\n",
    "First, for each road it's useful to have its zone, so I performed a spatial join and retrieve only the street associated with a zone.<br>\n",
    "For the pourpose of the project the dimension of the dataset it's enough that the simulation are statistically significant, but in <br>\n",
    "future update one way is to infer new zones, *using clustering algorithm for example, and discard no streets.* <br>\n",
    "\n",
    "Then, the opposite, it's easier to have only the zones with at least one represented road, so I decided to drop from the zones dataframe the ones without a road. <br>\n",
    "\n",
    "In the hub dataframe, I decided to perform once again the spatial join, to retrieve its zone, and add the nearest edge in the SUMO net.<br>\n",
    "In this way I can save computation time, since the possible starting points are aready computed. I decided to set a threshold in the <br>\n",
    "searching of the nearest edge, and hubs with no edges in that radius are discarded from the dataset.\n",
    "\n",
    "Lastly, I decided to extract, for each zone, its neighbors. Since one of the task is to retrieve the time needed for a user to exit from the neighborhood, <br>\n",
    "it's easier to have a list of the adjecent zones ready at the use, and create flows between a zone and one of its neighbors."
   ]
  },
  {
   "cell_type": "code",
   "execution_count": 8,
   "metadata": {},
   "outputs": [],
   "source": [
    "road_net = road_net.sjoin(zones_leuven, how = 'inner')[['id', 'geometry', 'CODSEC']]"
   ]
  },
  {
   "cell_type": "code",
   "execution_count": 9,
   "metadata": {},
   "outputs": [],
   "source": [
    "hubs = hubs.sjoin(zones_leuven, how = 'inner')[['nr', 'geometry', 'CODSEC']]\n",
    "hubs.reset_index(inplace=True, drop = True)"
   ]
  },
  {
   "cell_type": "code",
   "execution_count": 10,
   "metadata": {},
   "outputs": [],
   "source": [
    "#Popolate the geodataframe assigning, for each hub, its nearest edge in the SUMO network\n",
    "nearest_edge = []\n",
    "\n",
    "for idx, row in hubs.iterrows():\n",
    "    hub = row['geometry']\n",
    "    \n",
    "    #nearest neighbouring edge of the hubs\n",
    "    x_o, y_o = net.convertLonLat2XY(hub.x, hub.y)\n",
    "    candidates_origin = net.getNeighboringEdges(x_o, y_o, r=35, includeJunctions=True)\n",
    "    if len(candidates_origin) > 0:\n",
    "        #origin edge\n",
    "        nearest_edge.append(sorted(candidates_origin, key = lambda x: x[1])[0][0].getID())\n",
    "    else:\n",
    "        nearest_edge.append('NONE') #shouldn't happen, every hub should have a neighbouring edge\n",
    "\n",
    "hubs['Edge'] = nearest_edge\n",
    "# drop all the 'NONE', street, all the street without a zone\n",
    "hubs.drop(list(np.where(hubs['Edge'] == 'NONE')[0]), axis = 0, inplace=True)"
   ]
  },
  {
   "cell_type": "code",
   "execution_count": 11,
   "metadata": {},
   "outputs": [],
   "source": [
    "# in the same way, some of the zone may be useless, since they don't 'point' to any street\n",
    "selected_zones = set(road_net['CODSEC'].tolist())\n",
    "indexs_to_drop = []\n",
    "\n",
    "for idx, row in zones_leuven.iterrows():\n",
    "    if row['CODSEC'] not in selected_zones:\n",
    "        indexs_to_drop.append(idx)\n",
    "\n",
    "zones_leuven.drop(indexs_to_drop, inplace=True)\n",
    "zones_leuven.reset_index(inplace=True, drop = True)"
   ]
  },
  {
   "cell_type": "code",
   "execution_count": 12,
   "metadata": {},
   "outputs": [],
   "source": [
    "# retrieve adjacent zones, by zone\n",
    "adjacent_zones = []\n",
    "\n",
    "for idx, row in zones_leuven.iterrows():\n",
    "    zones_row = []\n",
    "    ids = set(np.where(zones_leuven['geometry'].intersection(zones_leuven['geometry'][idx]))[0]) - set([idx]) # remove the current zone from the list\n",
    "    for id in ids:\n",
    "        zones_row.append(zones_leuven['CODSEC'][id])\n",
    "\n",
    "    adjacent_zones.append(zones_row)\n",
    "\n",
    "zones_leuven['adjacent'] = adjacent_zones"
   ]
  },
  {
   "cell_type": "code",
   "execution_count": 13,
   "metadata": {},
   "outputs": [],
   "source": [
    "# NORMALIZATION BY AREA\n",
    "# area for zones in squared meters\n",
    "utm = zones_leuven.estimate_utm_crs()\n",
    "zones_leuven['area'] = zones_leuven.to_crs(utm).area\n",
    "\n",
    "scaler = MinMaxScaler()\n",
    "zones_leuven['area'] = scaler.fit_transform(np.array(zones_leuven['area']).reshape(-1,1))"
   ]
  },
  {
   "cell_type": "markdown",
   "metadata": {},
   "source": [
    "# Create Traffic demand <br>\n",
    "\n",
    "Now the traffic demand computation. In this part I wrote a function that, given a hub configuration, create a xml file compatible <br>\n",
    "for SUMO to describe the flows in the network.\n",
    "\n",
    "To meet the project goals, I needed to measure the level of segregation in the city, expressed as:\n",
    "* the time needed by an user to getting out of a neighborhood \n",
    "* the time needed by an user to reach the city center\n",
    "\n",
    "\n",
    "In this version the flows are assumed constant in dimension and their starting and ending point are drawn uniformely. **BASELINE**"
   ]
  },
  {
   "cell_type": "code",
   "execution_count": 16,
   "metadata": {},
   "outputs": [],
   "source": [
    "# Create a traffic demand for the sumo network. \n",
    "# Starting from an hub configuration dataframe (points) compute two types of flows:\n",
    "#   1) towards a random point outside its neighborhood (defined as one random edge in the adjacent zones)\n",
    "#   2) towards the city center (defined ad-hoc)\n",
    "# The process is repeated n (default = 100) times and in the end all the trips are written in the xml file in the Sumo folder.\n",
    "# In this case, I decided to create flows of vehicles in an uniform way, each starting point is drawn at random in and uniform way.\n",
    "# Currently, the paths are not computed, I decided to leave to duarouter the exact path computation. The number of vehicles in the flow\n",
    "# is constant in this function. \n",
    "# @input hubs: geodataframe with the hubs (points) configuration\n",
    "# @input fast: boolean value to decide if use shorted past or random graph\n",
    "# @input n: number of trips to generate\n",
    "\n",
    "def create_demand_uniform(hubs, n = 100):\n",
    "\n",
    "    # city center information\n",
    "    city_center = (4.70110, 50.87993)\n",
    "    x_c, y_c = net.convertLonLat2XY(city_center[0], city_center[1])\n",
    "    candidates_center = net.getNeighboringEdges(x_c, y_c, r=25, includeJunctions=True)\n",
    "    e_center = sorted(candidates_center, key = lambda x: x[1])[0][0].getID()\n",
    "\n",
    "    i = 0\n",
    "    random_destination = ''\n",
    "    center_destination = ''\n",
    "\n",
    "    print('start generation phase...', end='')\n",
    "    \n",
    "    while i < n:\n",
    "        #get a random mobility hub -- starting point\n",
    "        random_hub = hubs.sample(1)       \n",
    "        #get its zone\n",
    "        start_zone = random_hub['CODSEC'].values[0]\n",
    "        #nearest neighbouring edge of the origin\n",
    "        origin = random_hub['Edge'].values[0]\n",
    "\n",
    "        #select one zone of its neighbor zone\n",
    "        neighbors = zones_leuven[zones_leuven['CODSEC'] == start_zone]['adjacent'].values[0]\n",
    "        dest_zone = np.random.choice(neighbors)\n",
    "\n",
    "        #destination point 1 -- random street in another zone\n",
    "        destination = road_net[road_net['CODSEC'] == dest_zone].sample(1)['id'].values[0]\n",
    "        random_destination += '<flow id = \"r'+str(i)+'\" begin=\"0\" end = \"500\" departLane=\"random\" number = \"20\" from = \"'+origin+'\" to = \"'+destination+'\" type=\"type1\"></flow> \\n'\n",
    "\n",
    "        #destination point2 -- city center\n",
    "        center_destination += '<flow id = \"c'+str(i)+'\" begin=\"0\" end = \"500\" departLane=\"random\" number = \"20\" from = \"'+origin+'\" to = \"'+e_center+'\" type=\"type1\"></flow> \\n'\n",
    "        \n",
    "        i +=1\n",
    "\n",
    "    \n",
    "    print('end')\n",
    "    print('start writing file...', end='')\n",
    "    # write the file\n",
    "    f = open(\"Sumo/uniform_traffic_demand.xml\", \"w\")\n",
    "    f.write('<?xml version=\"1.0\" encoding=\"UTF-8\"?> <routes> <vType id=\"type1\" length=\"5.00\" maxSpeed=\"70.00\" accel=\"2.6\" decel=\"4.5\" sigma=\"0.5\" /> \\n')\n",
    "    f.write(random_destination)\n",
    "    f.write(center_destination)\n",
    "    f.write('</routes>')\n",
    "    f.close()\n",
    "    print('end')\n",
    "    "
   ]
  },
  {
   "cell_type": "markdown",
   "metadata": {},
   "source": [
    "## Duarouter"
   ]
  },
  {
   "cell_type": "code",
   "execution_count": 17,
   "metadata": {},
   "outputs": [],
   "source": [
    "import subprocess"
   ]
  },
  {
   "cell_type": "code",
   "execution_count": 18,
   "metadata": {},
   "outputs": [],
   "source": [
    "command_str = \"duarouter --route-files Sumo/my_trips.xml -n Sumo/osm.net.xml \" +\\\n",
    "                \" --weights.random-factor 255 \"+\\\n",
    "                \"-o Sumo/traffic_demand_duarouter.rou.xml\""
   ]
  },
  {
   "cell_type": "markdown",
   "metadata": {},
   "source": [
    "# SUMO"
   ]
  },
  {
   "cell_type": "code",
   "execution_count": 19,
   "metadata": {},
   "outputs": [],
   "source": [
    "# import the traci library\n",
    "import traci\n",
    "import sys"
   ]
  },
  {
   "cell_type": "code",
   "execution_count": 20,
   "metadata": {},
   "outputs": [],
   "source": [
    "# check sumo enviroment\n",
    "if 'SUMO_HOME' in os.environ:\n",
    "    tools = os.path.join(os.environ['SUMO_HOME'], 'tools')\n",
    "    sys.path.append(tools)\n",
    "else:\n",
    "    sys.exit(\"please declare environment variable 'SUMO_HOME'\")\n",
    "\n",
    "#Configuration \n",
    "sumo_binary = os.environ['SUMO_HOME']+\"/bin/sumo\"\n",
    "\n",
    "#command for the simulation -- use duarouter\n",
    "sumo_cmd = [sumo_binary, \"-c\", os.getcwd()+'/Sumo/my_config_duarouter.sumocfg', '-W', 'true', '--time-to-teleport', '5', '--no-step-log',\n",
    "            '-v', 'false', '-t', 'false']"
   ]
  },
  {
   "cell_type": "code",
   "execution_count": 21,
   "metadata": {},
   "outputs": [],
   "source": [
    "# Main loop \n",
    "# generate a traffic demand, call duarouter for things, run the simulation. Repeat the process n times and \n",
    "# compute the average times.\n",
    "# @input: hubs, geodataframe with the hub configuration\n",
    "# @output: random_average_time, average time, between all the simulation and all the different users, starting\n",
    "#           from a random hub to exit from its neighborhood\n",
    "# @output: center_average_time, average time, between all the simulation and all the different users, starting\n",
    "#           from a random hub to reach the city center\n",
    "\n",
    "def main_loop(hubs):\n",
    "    random_average_time = []\n",
    "    center_average_time = []\n",
    "\n",
    "    #traci.vehicle.subsc\n",
    "\n",
    "    for i in range(10):\n",
    "        print('-------------')\n",
    "        print('iteration ', i+1)\n",
    "\n",
    "        #create random traffic demand\n",
    "        create_demand_uniform(hubs, fast = True)\n",
    "\n",
    "        duarouter\n",
    "        print('start duarouter...', end= '')\n",
    "        p = subprocess.Popen(command_str, shell=True, stdout=subprocess.PIPE, \n",
    "                                        stderr=subprocess.STDOUT)\n",
    "        p.wait()\n",
    "        print('end')\n",
    "\n",
    "        #start new simulation\n",
    "        print('start simulation...')\n",
    "        traci.start(sumo_cmd)\n",
    "\n",
    "        print('    Starting time: 0')\n",
    "        random_time = dict()\n",
    "        center_time = dict()\n",
    "\n",
    "        #run simulation until no more vehicles\n",
    "        while traci.simulation.getTime() < 500 or len(traci.vehicle.getIDList()) > 0 :\n",
    "            traci.simulationStep()\n",
    "\n",
    "            #get, for each vehicle, its last travel time, divided by destinaton\n",
    "            for v in traci.vehicle.getIDList():\n",
    "                distance = traci.vehicle.getDistance(v)\n",
    "                time = traci.simulation.getTime()\n",
    "                if distance == 0:\n",
    "                    distance = 1\n",
    "\n",
    "                timebydist = time/1\n",
    "                if v[0] == 'r':\n",
    "                    #normalize the time based on the distance\n",
    "                    random_time[v] = timebydist\n",
    "                else:\n",
    "                    center_time[v] = timebydist\n",
    "\n",
    "        print('    Ending time: ', traci.simulation.getTime())\n",
    "        random_average_time.append(np.mean(list(random_time.values()))/60)\n",
    "        center_average_time.append(np.mean(list(center_time.values()))/60)\n",
    "        print('end')\n",
    "\n",
    "        #close the simulation\n",
    "        traci.close()\n",
    "        #see if i can remove the output of traci\n",
    "    return np.mean(random_average_time), np.mean(center_average_time)"
   ]
  },
  {
   "cell_type": "markdown",
   "metadata": {},
   "source": [
    "## Real HUBS"
   ]
  },
  {
   "cell_type": "code",
   "execution_count": 22,
   "metadata": {},
   "outputs": [
    {
     "name": "stdout",
     "output_type": "stream",
     "text": [
      "-------------\n",
      "iteration  1\n",
      "start generation phase...end\n",
      "start writing file...end\n",
      "start duarouter...end\n",
      "start simulation...\n",
      " Retrying in 1 seconds\n",
      "    Starting time: 0\n",
      "    Ending time:  924.0\n",
      "end\n",
      "-------------\n",
      "iteration  2\n",
      "start generation phase...end\n",
      "start writing file...end\n",
      "start duarouter...end\n",
      "start simulation...\n",
      " Retrying in 1 seconds\n",
      "    Starting time: 0\n",
      "    Ending time:  900.0\n",
      "end\n",
      "-------------\n",
      "iteration  3\n",
      "start generation phase...end\n",
      "start writing file...end\n",
      "start duarouter...end\n",
      "start simulation...\n",
      " Retrying in 1 seconds\n",
      "    Starting time: 0\n",
      "    Ending time:  1227.0\n",
      "end\n",
      "-------------\n",
      "iteration  4\n",
      "start generation phase...end\n",
      "start writing file...end\n",
      "start duarouter...end\n",
      "start simulation...\n",
      " Retrying in 1 seconds\n",
      "    Starting time: 0\n",
      "    Ending time:  995.0\n",
      "end\n",
      "-------------\n",
      "iteration  5\n",
      "start generation phase...end\n",
      "start writing file...end\n",
      "start duarouter...end\n",
      "start simulation...\n",
      " Retrying in 1 seconds\n",
      "    Starting time: 0\n",
      "    Ending time:  925.0\n",
      "end\n",
      "-------------\n",
      "iteration  6\n",
      "start generation phase...end\n",
      "start writing file...end\n",
      "start duarouter...end\n",
      "start simulation...\n",
      " Retrying in 1 seconds\n",
      "    Starting time: 0\n",
      "    Ending time:  929.0\n",
      "end\n",
      "-------------\n",
      "iteration  7\n",
      "start generation phase...end\n",
      "start writing file...end\n",
      "start duarouter...end\n",
      "start simulation...\n",
      " Retrying in 1 seconds\n",
      "    Starting time: 0\n",
      "    Ending time:  1318.0\n",
      "end\n",
      "-------------\n",
      "iteration  8\n",
      "start generation phase...end\n",
      "start writing file...end\n",
      "start duarouter...end\n",
      "start simulation...\n",
      " Retrying in 1 seconds\n",
      "    Starting time: 0\n",
      "    Ending time:  873.0\n",
      "end\n",
      "-------------\n",
      "iteration  9\n",
      "start generation phase...end\n",
      "start writing file...end\n",
      "start duarouter...end\n",
      "start simulation...\n",
      " Retrying in 1 seconds\n",
      "    Starting time: 0\n",
      "    Ending time:  893.0\n",
      "end\n",
      "-------------\n",
      "iteration  10\n",
      "start generation phase...end\n",
      "start writing file...end\n",
      "start duarouter...end\n",
      "start simulation...\n",
      " Retrying in 1 seconds\n",
      "    Starting time: 0\n",
      "    Ending time:  923.0\n",
      "end\n"
     ]
    }
   ],
   "source": [
    "random_mean, center_mean = main_loop(hubs)"
   ]
  },
  {
   "cell_type": "code",
   "execution_count": 23,
   "metadata": {},
   "outputs": [
    {
     "data": {
      "text/plain": [
       "(4.6956621441783, 9.423441666666665)"
      ]
     },
     "execution_count": 23,
     "metadata": {},
     "output_type": "execute_result"
    }
   ],
   "source": [
    "random_mean, center_mean"
   ]
  },
  {
   "cell_type": "markdown",
   "metadata": {},
   "source": [
    "## Random Hubs"
   ]
  },
  {
   "cell_type": "code",
   "execution_count": 24,
   "metadata": {},
   "outputs": [],
   "source": [
    "# random hubs --> random street, centroid\n",
    "np.random.seed(42)\n",
    "r_hubs = road_net.sample(len(hubs), replace= True)"
   ]
  },
  {
   "cell_type": "code",
   "execution_count": 25,
   "metadata": {},
   "outputs": [],
   "source": [
    "r_hubs.columns = ['Edge', 'geometry', 'CODSEC']"
   ]
  },
  {
   "cell_type": "code",
   "execution_count": 26,
   "metadata": {},
   "outputs": [
    {
     "name": "stdout",
     "output_type": "stream",
     "text": [
      "-------------\n",
      "iteration  1\n",
      "start generation phase...end\n",
      "start writing file...end\n",
      "start duarouter...end\n",
      "start simulation...\n",
      " Retrying in 1 seconds\n",
      "    Starting time: 0\n",
      "    Ending time:  1393.0\n",
      "end\n",
      "-------------\n",
      "iteration  2\n",
      "start generation phase...end\n",
      "start writing file...end\n",
      "start duarouter...end\n",
      "start simulation...\n",
      " Retrying in 1 seconds\n",
      "    Starting time: 0\n",
      "    Ending time:  1439.0\n",
      "end\n",
      "-------------\n",
      "iteration  3\n",
      "start generation phase...end\n",
      "start writing file...end\n",
      "start duarouter...end\n",
      "start simulation...\n",
      " Retrying in 1 seconds\n",
      "    Starting time: 0\n",
      "    Ending time:  1124.0\n",
      "end\n",
      "-------------\n",
      "iteration  4\n",
      "start generation phase...end\n",
      "start writing file...end\n",
      "start duarouter...end\n",
      "start simulation...\n",
      " Retrying in 1 seconds\n",
      "    Starting time: 0\n",
      "    Ending time:  1394.0\n",
      "end\n",
      "-------------\n",
      "iteration  5\n",
      "start generation phase...end\n",
      "start writing file...end\n",
      "start duarouter...end\n",
      "start simulation...\n",
      " Retrying in 1 seconds\n",
      "    Starting time: 0\n",
      "    Ending time:  1006.0\n",
      "end\n",
      "-------------\n",
      "iteration  6\n",
      "start generation phase...end\n",
      "start writing file...end\n",
      "start duarouter...end\n",
      "start simulation...\n",
      " Retrying in 1 seconds\n",
      "    Starting time: 0\n",
      "    Ending time:  1004.0\n",
      "end\n",
      "-------------\n",
      "iteration  7\n",
      "start generation phase...end\n",
      "start writing file...end\n",
      "start duarouter...end\n",
      "start simulation...\n",
      " Retrying in 1 seconds\n",
      "    Starting time: 0\n",
      "    Ending time:  906.0\n",
      "end\n",
      "-------------\n",
      "iteration  8\n",
      "start generation phase...end\n",
      "start writing file...end\n",
      "start duarouter...end\n",
      "start simulation...\n",
      " Retrying in 1 seconds\n",
      "    Starting time: 0\n",
      "    Ending time:  973.0\n",
      "end\n",
      "-------------\n",
      "iteration  9\n",
      "start generation phase...end\n",
      "start writing file...end\n",
      "start duarouter...end\n",
      "start simulation...\n",
      " Retrying in 1 seconds\n",
      "    Starting time: 0\n",
      "    Ending time:  1399.0\n",
      "end\n",
      "-------------\n",
      "iteration  10\n",
      "start generation phase...end\n",
      "start writing file...end\n",
      "start duarouter...end\n",
      "start simulation...\n",
      " Retrying in 1 seconds\n",
      "    Starting time: 0\n",
      "    Ending time:  943.0\n",
      "end\n"
     ]
    }
   ],
   "source": [
    "random_mean, center_mean = main_loop(r_hubs)"
   ]
  },
  {
   "cell_type": "code",
   "execution_count": 27,
   "metadata": {},
   "outputs": [
    {
     "data": {
      "text/plain": [
       "(5.560361307634165, 11.752374999999999)"
      ]
     },
     "execution_count": 27,
     "metadata": {},
     "output_type": "execute_result"
    }
   ],
   "source": [
    "random_mean, center_mean"
   ]
  },
  {
   "cell_type": "markdown",
   "metadata": {},
   "source": [
    "## Optimal Placement"
   ]
  },
  {
   "cell_type": "code",
   "execution_count": 28,
   "metadata": {},
   "outputs": [],
   "source": [
    "opt_hubs = gpd.read_file('opt_hubs.gpkg')[['geometry', 'index']]"
   ]
  },
  {
   "cell_type": "code",
   "execution_count": 29,
   "metadata": {},
   "outputs": [],
   "source": [
    "opt_hubs = opt_hubs.sjoin(zones_leuven, how = 'inner')[['index', 'geometry', 'CODSEC']]\n",
    "opt_hubs.reset_index(inplace=True, drop = True)"
   ]
  },
  {
   "cell_type": "code",
   "execution_count": 30,
   "metadata": {},
   "outputs": [],
   "source": [
    "#Popolate the geodataframe assigning, for each street, its zone, SPATIAL JOIN\n",
    "nearest_edge = []\n",
    "\n",
    "for idx, row in opt_hubs.iterrows():\n",
    "    hub = row['geometry']\n",
    "    \n",
    "    #nearest neighbouring edge of the opt_hubs\n",
    "    x_o, y_o = net.convertLonLat2XY(hub.x, hub.y)\n",
    "    candidates_origin = net.getNeighboringEdges(x_o, y_o, r=35, includeJunctions=True)\n",
    "    if len(candidates_origin) > 0:\n",
    "        #origin edge\n",
    "        nearest_edge.append(sorted(candidates_origin, key = lambda x: x[1])[0][0].getID())\n",
    "    else:\n",
    "        nearest_edge.append('NONE') #shouldn't happen, every hub should have a neighbouring edge\n",
    "\n",
    "opt_hubs['Edge'] = nearest_edge\n",
    "# drop all the 'NONE', street, all the street without a zone\n",
    "opt_hubs.drop(list(np.where(opt_hubs['Edge'] == 'NONE')[0]), axis = 0, inplace=True)"
   ]
  },
  {
   "cell_type": "code",
   "execution_count": 31,
   "metadata": {},
   "outputs": [
    {
     "name": "stdout",
     "output_type": "stream",
     "text": [
      "-------------\n",
      "iteration  1\n",
      "start generation phase...end\n",
      "start writing file...end\n",
      "start duarouter...end\n",
      "start simulation...\n",
      " Retrying in 1 seconds\n",
      "    Starting time: 0\n",
      "    Ending time:  1361.0\n",
      "end\n",
      "-------------\n",
      "iteration  2\n",
      "start generation phase...end\n",
      "start writing file...end\n",
      "start duarouter...end\n",
      "start simulation...\n",
      " Retrying in 1 seconds\n",
      "    Starting time: 0\n",
      "    Ending time:  1309.0\n",
      "end\n",
      "-------------\n",
      "iteration  3\n",
      "start generation phase...end\n",
      "start writing file...end\n",
      "start duarouter...end\n",
      "start simulation...\n",
      " Retrying in 1 seconds\n",
      "    Starting time: 0\n",
      "    Ending time:  866.0\n",
      "end\n",
      "-------------\n",
      "iteration  4\n",
      "start generation phase...end\n",
      "start writing file...end\n",
      "start duarouter...end\n",
      "start simulation...\n",
      " Retrying in 1 seconds\n",
      "    Starting time: 0\n",
      "    Ending time:  1300.0\n",
      "end\n",
      "-------------\n",
      "iteration  5\n",
      "start generation phase...end\n",
      "start writing file...end\n",
      "start duarouter...end\n",
      "start simulation...\n",
      " Retrying in 1 seconds\n",
      "    Starting time: 0\n",
      "    Ending time:  803.0\n",
      "end\n",
      "-------------\n",
      "iteration  6\n",
      "start generation phase...end\n",
      "start writing file...end\n",
      "start duarouter...end\n",
      "start simulation...\n",
      " Retrying in 1 seconds\n",
      "    Starting time: 0\n",
      "    Ending time:  921.0\n",
      "end\n",
      "-------------\n",
      "iteration  7\n",
      "start generation phase...end\n",
      "start writing file...end\n",
      "start duarouter...end\n",
      "start simulation...\n",
      " Retrying in 1 seconds\n",
      "    Starting time: 0\n",
      "    Ending time:  1312.0\n",
      "end\n",
      "-------------\n",
      "iteration  8\n",
      "start generation phase...end\n",
      "start writing file...end\n",
      "start duarouter...end\n",
      "start simulation...\n",
      " Retrying in 1 seconds\n",
      "    Starting time: 0\n",
      "    Ending time:  893.0\n",
      "end\n",
      "-------------\n",
      "iteration  9\n",
      "start generation phase...end\n",
      "start writing file...end\n",
      "start duarouter...end\n",
      "start simulation...\n",
      " Retrying in 1 seconds\n",
      "    Starting time: 0\n",
      "    Ending time:  856.0\n",
      "end\n",
      "-------------\n",
      "iteration  10\n",
      "start generation phase...end\n",
      "start writing file...end\n",
      "start duarouter...end\n",
      "start simulation...\n",
      " Retrying in 1 seconds\n",
      "    Starting time: 0\n",
      "    Ending time:  1342.0\n",
      "end\n"
     ]
    }
   ],
   "source": [
    "random_mean, center_mean = main_loop(opt_hubs)"
   ]
  },
  {
   "cell_type": "code",
   "execution_count": 32,
   "metadata": {},
   "outputs": [
    {
     "data": {
      "text/plain": [
       "(5.271399723153483, 10.287146666666667)"
      ]
     },
     "execution_count": 32,
     "metadata": {},
     "output_type": "execute_result"
    }
   ],
   "source": [
    "random_mean, center_mean "
   ]
  },
  {
   "cell_type": "markdown",
   "metadata": {},
   "source": [
    "# Traffic demand proportional to the flows"
   ]
  },
  {
   "cell_type": "code",
   "execution_count": 237,
   "metadata": {},
   "outputs": [],
   "source": [
    "fdf = pd.read_csv('flussi_per_simulazione.csv')[['CODSEC_ORIG', 'CODSEC_DEST', 'flows_car_aggr', 'flows_pae_aggr']]"
   ]
  },
  {
   "cell_type": "code",
   "execution_count": 238,
   "metadata": {},
   "outputs": [],
   "source": [
    "# starting point must have and hub\n",
    "no_flow = []\n",
    "\n",
    "for idx, row in fdf.iterrows():\n",
    "    hub_list = hubs[hubs['CODSEC'] == row['CODSEC_ORIG']]\n",
    "    if len(hub_list) == 0:\n",
    "        no_flow.append(idx)\n",
    "\n",
    "fdf.drop(no_flow, axis = 0, inplace= True)"
   ]
  },
  {
   "cell_type": "code",
   "execution_count": 239,
   "metadata": {},
   "outputs": [],
   "source": [
    "sums = fdf[['flows_car_aggr', 'flows_pae_aggr']].sum(axis=0)\n",
    "fdf['flows_car_aggr'] = fdf['flows_car_aggr']/sums['flows_car_aggr']\n",
    "fdf['flows_pae_aggr'] = fdf['flows_pae_aggr']/sums['flows_pae_aggr']"
   ]
  }
 ],
 "metadata": {
  "kernelspec": {
   "display_name": "geo",
   "language": "python",
   "name": "python3"
  },
  "language_info": {
   "codemirror_mode": {
    "name": "ipython",
    "version": 3
   },
   "file_extension": ".py",
   "mimetype": "text/x-python",
   "name": "python",
   "nbconvert_exporter": "python",
   "pygments_lexer": "ipython3",
   "version": "3.9.18"
  }
 },
 "nbformat": 4,
 "nbformat_minor": 2
}
